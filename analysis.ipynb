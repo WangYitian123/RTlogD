{
 "cells": [
  {
   "cell_type": "code",
   "execution_count": 3,
   "metadata": {},
   "outputs": [],
   "source": [
    "\n",
    "from math import sqrt   \n",
    "from sklearn.metrics import mean_absolute_error\n",
    "from sklearn.metrics import mean_squared_error\n",
    "from sklearn.metrics import r2_score\n",
    "import pandas as pd\n",
    "y_test=pd.read_csv(\"T-data_predictions(chembl32_logD).csv\")['standard_value']\n",
    "y_predict=pd.read_csv(\"T-data_predictions(chembl32_logD).csv\")['no_logp']"
   ]
  },
  {
   "cell_type": "code",
   "execution_count": 4,
   "metadata": {},
   "outputs": [
    {
     "name": "stdout",
     "output_type": "stream",
     "text": [
      "0.948\n",
      "0.715\n",
      "0.52\n"
     ]
    }
   ],
   "source": [
    "print(round(sqrt(mean_squared_error(y_test, y_predict)),3))\n",
    "print(round(mean_absolute_error(y_test, y_predict),3))\n",
    "#print(\"mean_squared_error:\", mean_squared_error(y_test, y_predict))\n",
    "\n",
    "print(round(r2_score(y_test, y_predict),3))"
   ]
  },
  {
   "cell_type": "code",
   "execution_count": 5,
   "metadata": {},
   "outputs": [],
   "source": [
    "y_predict=pd.read_csv(\"T-data_predictions(chembl32_logD).csv\")['RTlogD']"
   ]
  },
  {
   "cell_type": "code",
   "execution_count": 6,
   "metadata": {},
   "outputs": [
    {
     "name": "stdout",
     "output_type": "stream",
     "text": [
      "0.918\n",
      "0.69\n",
      "0.55\n"
     ]
    }
   ],
   "source": [
    "print(round(sqrt(mean_squared_error(y_test, y_predict)),3))\n",
    "print(round(mean_absolute_error(y_test, y_predict),3))\n",
    "#print(\"mean_squared_error:\", mean_squared_error(y_test, y_predict))\n",
    "\n",
    "print(round(r2_score(y_test, y_predict),3))"
   ]
  },
  {
   "cell_type": "code",
   "execution_count": 9,
   "metadata": {},
   "outputs": [],
   "source": [
    "y_predict=pd.read_csv(\"T-data_predictions(chembl32_logD).csv\")['w/o RT']"
   ]
  },
  {
   "cell_type": "code",
   "execution_count": 10,
   "metadata": {},
   "outputs": [
    {
     "name": "stdout",
     "output_type": "stream",
     "text": [
      "0.992\n",
      "0.729\n",
      "0.475\n"
     ]
    }
   ],
   "source": [
    "print(round(sqrt(mean_squared_error(y_test, y_predict)),3))\n",
    "print(round(mean_absolute_error(y_test, y_predict),3))\n",
    "#print(\"mean_squared_error:\", mean_squared_error(y_test, y_predict))\n",
    "\n",
    "print(round(r2_score(y_test, y_predict),3))"
   ]
  },
  {
   "cell_type": "code",
   "execution_count": 12,
   "metadata": {},
   "outputs": [],
   "source": [
    "y_predict=pd.read_csv(\"T-data_predictions(chembl32_logD).csv\")['w/o RT and microscopic pKa']"
   ]
  },
  {
   "cell_type": "code",
   "execution_count": 13,
   "metadata": {},
   "outputs": [
    {
     "name": "stdout",
     "output_type": "stream",
     "text": [
      "1.042\n",
      "0.756\n",
      "0.42\n"
     ]
    }
   ],
   "source": [
    "print(round(sqrt(mean_squared_error(y_test, y_predict)),3))\n",
    "print(round(mean_absolute_error(y_test, y_predict),3))\n",
    "#print(\"mean_squared_error:\", mean_squared_error(y_test, y_predict))\n",
    "\n",
    "print(round(r2_score(y_test, y_predict),3))"
   ]
  },
  {
   "cell_type": "code",
   "execution_count": 14,
   "metadata": {},
   "outputs": [],
   "source": [
    "y_predict=pd.read_csv(\"T-data_predictions(chembl32_logD).csv\")['w/o microscopic pKa']"
   ]
  },
  {
   "cell_type": "code",
   "execution_count": 15,
   "metadata": {},
   "outputs": [
    {
     "name": "stdout",
     "output_type": "stream",
     "text": [
      "0.993\n",
      "0.731\n",
      "0.474\n"
     ]
    }
   ],
   "source": [
    "print(round(sqrt(mean_squared_error(y_test, y_predict)),3))\n",
    "print(round(mean_absolute_error(y_test, y_predict),3))\n",
    "#print(\"mean_squared_error:\", mean_squared_error(y_test, y_predict))\n",
    "\n",
    "print(round(r2_score(y_test, y_predict),3))"
   ]
  },
  {
   "cell_type": "code",
   "execution_count": 16,
   "metadata": {},
   "outputs": [
    {
     "data": {
      "text/html": [
       "<div>\n",
       "<style scoped>\n",
       "    .dataframe tbody tr th:only-of-type {\n",
       "        vertical-align: middle;\n",
       "    }\n",
       "\n",
       "    .dataframe tbody tr th {\n",
       "        vertical-align: top;\n",
       "    }\n",
       "\n",
       "    .dataframe thead th {\n",
       "        text-align: right;\n",
       "    }\n",
       "</style>\n",
       "<table border=\"1\" class=\"dataframe\">\n",
       "  <thead>\n",
       "    <tr style=\"text-align: right;\">\n",
       "      <th></th>\n",
       "      <th>smiles</th>\n",
       "      <th>standard_value</th>\n",
       "      <th>PCFE</th>\n",
       "      <th>RTlogD</th>\n",
       "      <th>ADMETlab2.0</th>\n",
       "      <th>w/o microscopic pKa</th>\n",
       "      <th>w/o RT and microscopic pKa</th>\n",
       "      <th>w/o RT</th>\n",
       "      <th>no_logp</th>\n",
       "      <th>swap_strategy</th>\n",
       "      <th>all_task_scaffold</th>\n",
       "      <th>replace_macropka</th>\n",
       "      <th>Instant Jchem</th>\n",
       "    </tr>\n",
       "  </thead>\n",
       "  <tbody>\n",
       "    <tr>\n",
       "      <th>0</th>\n",
       "      <td>O=c1nc(Oc2ccccc2)c2ccc(Cl)cc2[nH]1</td>\n",
       "      <td>2.70</td>\n",
       "      <td>2.94</td>\n",
       "      <td>3.679</td>\n",
       "      <td>3.349</td>\n",
       "      <td>2.149</td>\n",
       "      <td>3.383</td>\n",
       "      <td>2.927</td>\n",
       "      <td>3.289346</td>\n",
       "      <td>3.273000</td>\n",
       "      <td>3.325000</td>\n",
       "      <td>2.807000</td>\n",
       "      <td>4.170721</td>\n",
       "    </tr>\n",
       "    <tr>\n",
       "      <th>1</th>\n",
       "      <td>NCc1cccc(NC(=O)CCS)c1</td>\n",
       "      <td>0.28</td>\n",
       "      <td>-0.36</td>\n",
       "      <td>-1.097</td>\n",
       "      <td>0.772</td>\n",
       "      <td>-0.843</td>\n",
       "      <td>-0.528</td>\n",
       "      <td>-0.508</td>\n",
       "      <td>-0.870784</td>\n",
       "      <td>-1.664000</td>\n",
       "      <td>-1.421000</td>\n",
       "      <td>-0.772000</td>\n",
       "      <td>-0.476887</td>\n",
       "    </tr>\n",
       "    <tr>\n",
       "      <th>2</th>\n",
       "      <td>CCOc1nc(N(C)C)nc(=O)n1C</td>\n",
       "      <td>0.66</td>\n",
       "      <td>0.75</td>\n",
       "      <td>1.484</td>\n",
       "      <td>0.978</td>\n",
       "      <td>1.490</td>\n",
       "      <td>1.154</td>\n",
       "      <td>1.721</td>\n",
       "      <td>1.434545</td>\n",
       "      <td>1.465000</td>\n",
       "      <td>0.867000</td>\n",
       "      <td>2.356000</td>\n",
       "      <td>0.249611</td>\n",
       "    </tr>\n",
       "    <tr>\n",
       "      <th>3</th>\n",
       "      <td>CCOc1nc(N(C)C)nc(=O)[nH]1</td>\n",
       "      <td>0.23</td>\n",
       "      <td>0.36</td>\n",
       "      <td>1.093</td>\n",
       "      <td>1.513</td>\n",
       "      <td>0.408</td>\n",
       "      <td>0.313</td>\n",
       "      <td>0.511</td>\n",
       "      <td>0.095331</td>\n",
       "      <td>-0.103000</td>\n",
       "      <td>0.307000</td>\n",
       "      <td>1.708000</td>\n",
       "      <td>-0.910894</td>\n",
       "    </tr>\n",
       "    <tr>\n",
       "      <th>4</th>\n",
       "      <td>C[C@H]1CC[C@H](Cn2c(N3CCC[C@H]3CF)nc3cc(-c4noc...</td>\n",
       "      <td>2.42</td>\n",
       "      <td>4.23</td>\n",
       "      <td>4.961</td>\n",
       "      <td>4.576</td>\n",
       "      <td>3.947</td>\n",
       "      <td>4.697</td>\n",
       "      <td>3.753</td>\n",
       "      <td>4.698775</td>\n",
       "      <td>3.568000</td>\n",
       "      <td>4.239000</td>\n",
       "      <td>3.953000</td>\n",
       "      <td>4.755594</td>\n",
       "    </tr>\n",
       "    <tr>\n",
       "      <th>...</th>\n",
       "      <td>...</td>\n",
       "      <td>...</td>\n",
       "      <td>...</td>\n",
       "      <td>...</td>\n",
       "      <td>...</td>\n",
       "      <td>...</td>\n",
       "      <td>...</td>\n",
       "      <td>...</td>\n",
       "      <td>...</td>\n",
       "      <td>...</td>\n",
       "      <td>...</td>\n",
       "      <td>...</td>\n",
       "      <td>...</td>\n",
       "    </tr>\n",
       "    <tr>\n",
       "      <th>2825</th>\n",
       "      <td>COc1cc(F)c(-c2ccc(-c3n[nH]c(=O)o3)cc2C)cc1-c1c...</td>\n",
       "      <td>6.90</td>\n",
       "      <td>5.37</td>\n",
       "      <td>5.856</td>\n",
       "      <td>4.510</td>\n",
       "      <td>4.942</td>\n",
       "      <td>5.806</td>\n",
       "      <td>5.314</td>\n",
       "      <td>5.680450</td>\n",
       "      <td>5.064685</td>\n",
       "      <td>5.770318</td>\n",
       "      <td>4.536191</td>\n",
       "      <td>9.332662</td>\n",
       "    </tr>\n",
       "    <tr>\n",
       "      <th>2826</th>\n",
       "      <td>COc1cc(F)c(C(C)C)cc1-c1ccc(N(C)C)nc1C1CC[C@H]2...</td>\n",
       "      <td>6.90</td>\n",
       "      <td>5.20</td>\n",
       "      <td>4.820</td>\n",
       "      <td>4.858</td>\n",
       "      <td>5.577</td>\n",
       "      <td>4.427</td>\n",
       "      <td>5.126</td>\n",
       "      <td>5.723086</td>\n",
       "      <td>4.474180</td>\n",
       "      <td>4.886817</td>\n",
       "      <td>5.481558</td>\n",
       "      <td>8.249099</td>\n",
       "    </tr>\n",
       "    <tr>\n",
       "      <th>2827</th>\n",
       "      <td>COc1cc(F)c(C(C)C)cc1-c1ccc(C(F)(F)F)cc1[C@@H]1...</td>\n",
       "      <td>7.00</td>\n",
       "      <td>5.34</td>\n",
       "      <td>5.600</td>\n",
       "      <td>4.916</td>\n",
       "      <td>4.882</td>\n",
       "      <td>5.312</td>\n",
       "      <td>5.474</td>\n",
       "      <td>6.483164</td>\n",
       "      <td>5.674885</td>\n",
       "      <td>5.937366</td>\n",
       "      <td>5.208837</td>\n",
       "      <td>9.045258</td>\n",
       "    </tr>\n",
       "    <tr>\n",
       "      <th>2828</th>\n",
       "      <td>COc1cc(F)c(C(C)C)cc1-c1ccc(F)cc1[C@@H]1CC[C@H]...</td>\n",
       "      <td>7.00</td>\n",
       "      <td>5.32</td>\n",
       "      <td>5.807</td>\n",
       "      <td>4.817</td>\n",
       "      <td>5.061</td>\n",
       "      <td>5.504</td>\n",
       "      <td>5.389</td>\n",
       "      <td>6.379023</td>\n",
       "      <td>5.598714</td>\n",
       "      <td>5.452272</td>\n",
       "      <td>4.705337</td>\n",
       "      <td>8.674539</td>\n",
       "    </tr>\n",
       "    <tr>\n",
       "      <th>2829</th>\n",
       "      <td>COc1cc(F)c(C(C)C)cc1-c1cnc(N(C)C)cc1[C@@H]1CC[...</td>\n",
       "      <td>7.00</td>\n",
       "      <td>4.86</td>\n",
       "      <td>4.901</td>\n",
       "      <td>4.455</td>\n",
       "      <td>5.361</td>\n",
       "      <td>4.931</td>\n",
       "      <td>4.552</td>\n",
       "      <td>5.418164</td>\n",
       "      <td>4.195698</td>\n",
       "      <td>4.786997</td>\n",
       "      <td>4.765212</td>\n",
       "      <td>8.006171</td>\n",
       "    </tr>\n",
       "  </tbody>\n",
       "</table>\n",
       "<p>2830 rows × 13 columns</p>\n",
       "</div>"
      ],
      "text/plain": [
       "                                                 smiles  standard_value  PCFE  \\\n",
       "0                    O=c1nc(Oc2ccccc2)c2ccc(Cl)cc2[nH]1            2.70  2.94   \n",
       "1                                 NCc1cccc(NC(=O)CCS)c1            0.28 -0.36   \n",
       "2                               CCOc1nc(N(C)C)nc(=O)n1C            0.66  0.75   \n",
       "3                             CCOc1nc(N(C)C)nc(=O)[nH]1            0.23  0.36   \n",
       "4     C[C@H]1CC[C@H](Cn2c(N3CCC[C@H]3CF)nc3cc(-c4noc...            2.42  4.23   \n",
       "...                                                 ...             ...   ...   \n",
       "2825  COc1cc(F)c(-c2ccc(-c3n[nH]c(=O)o3)cc2C)cc1-c1c...            6.90  5.37   \n",
       "2826  COc1cc(F)c(C(C)C)cc1-c1ccc(N(C)C)nc1C1CC[C@H]2...            6.90  5.20   \n",
       "2827  COc1cc(F)c(C(C)C)cc1-c1ccc(C(F)(F)F)cc1[C@@H]1...            7.00  5.34   \n",
       "2828  COc1cc(F)c(C(C)C)cc1-c1ccc(F)cc1[C@@H]1CC[C@H]...            7.00  5.32   \n",
       "2829  COc1cc(F)c(C(C)C)cc1-c1cnc(N(C)C)cc1[C@@H]1CC[...            7.00  4.86   \n",
       "\n",
       "      RTlogD  ADMETlab2.0  w/o microscopic pKa  w/o RT and microscopic pKa  \\\n",
       "0      3.679        3.349                2.149                       3.383   \n",
       "1     -1.097        0.772               -0.843                      -0.528   \n",
       "2      1.484        0.978                1.490                       1.154   \n",
       "3      1.093        1.513                0.408                       0.313   \n",
       "4      4.961        4.576                3.947                       4.697   \n",
       "...      ...          ...                  ...                         ...   \n",
       "2825   5.856        4.510                4.942                       5.806   \n",
       "2826   4.820        4.858                5.577                       4.427   \n",
       "2827   5.600        4.916                4.882                       5.312   \n",
       "2828   5.807        4.817                5.061                       5.504   \n",
       "2829   4.901        4.455                5.361                       4.931   \n",
       "\n",
       "      w/o RT   no_logp  swap_strategy  all_task_scaffold  replace_macropka  \\\n",
       "0      2.927  3.289346       3.273000           3.325000          2.807000   \n",
       "1     -0.508 -0.870784      -1.664000          -1.421000         -0.772000   \n",
       "2      1.721  1.434545       1.465000           0.867000          2.356000   \n",
       "3      0.511  0.095331      -0.103000           0.307000          1.708000   \n",
       "4      3.753  4.698775       3.568000           4.239000          3.953000   \n",
       "...      ...       ...            ...                ...               ...   \n",
       "2825   5.314  5.680450       5.064685           5.770318          4.536191   \n",
       "2826   5.126  5.723086       4.474180           4.886817          5.481558   \n",
       "2827   5.474  6.483164       5.674885           5.937366          5.208837   \n",
       "2828   5.389  6.379023       5.598714           5.452272          4.705337   \n",
       "2829   4.552  5.418164       4.195698           4.786997          4.765212   \n",
       "\n",
       "      Instant Jchem  \n",
       "0          4.170721  \n",
       "1         -0.476887  \n",
       "2          0.249611  \n",
       "3         -0.910894  \n",
       "4          4.755594  \n",
       "...             ...  \n",
       "2825       9.332662  \n",
       "2826       8.249099  \n",
       "2827       9.045258  \n",
       "2828       8.674539  \n",
       "2829       8.006171  \n",
       "\n",
       "[2830 rows x 13 columns]"
      ]
     },
     "execution_count": 16,
     "metadata": {},
     "output_type": "execute_result"
    }
   ],
   "source": [
    "pd.read_csv(\"T-data_predictions(chembl32_logD).csv\")"
   ]
  },
  {
   "cell_type": "code",
   "execution_count": 17,
   "metadata": {},
   "outputs": [],
   "source": [
    "y_predict=pd.read_csv(\"T-data_predictions(chembl32_logD).csv\")['Instant Jchem']"
   ]
  },
  {
   "cell_type": "code",
   "execution_count": 18,
   "metadata": {},
   "outputs": [
    {
     "name": "stdout",
     "output_type": "stream",
     "text": [
      "1.971\n",
      "1.112\n",
      "-1.072\n"
     ]
    }
   ],
   "source": [
    "print(round(sqrt(mean_squared_error(y_test, y_predict)),3))\n",
    "print(round(mean_absolute_error(y_test, y_predict),3))\n",
    "#print(\"mean_squared_error:\", mean_squared_error(y_test, y_predict))\n",
    "\n",
    "print(round(r2_score(y_test, y_predict),3))"
   ]
  },
  {
   "cell_type": "code",
   "execution_count": 19,
   "metadata": {},
   "outputs": [],
   "source": [
    "y_predict=pd.read_csv(\"T-data_predictions(chembl32_logD).csv\")['ADMETlab2.0']"
   ]
  },
  {
   "cell_type": "code",
   "execution_count": 20,
   "metadata": {},
   "outputs": [
    {
     "name": "stdout",
     "output_type": "stream",
     "text": [
      "1.137\n",
      "0.852\n",
      "0.31\n"
     ]
    }
   ],
   "source": [
    "print(round(sqrt(mean_squared_error(y_test, y_predict)),3))\n",
    "print(round(mean_absolute_error(y_test, y_predict),3))\n",
    "#print(\"mean_squared_error:\", mean_squared_error(y_test, y_predict))\n",
    "\n",
    "print(round(r2_score(y_test, y_predict),3))"
   ]
  },
  {
   "cell_type": "code",
   "execution_count": 21,
   "metadata": {},
   "outputs": [],
   "source": [
    "y_predict=pd.read_csv(\"T-data_predictions(chembl32_logD).csv\")['PCFE']"
   ]
  },
  {
   "cell_type": "code",
   "execution_count": 22,
   "metadata": {},
   "outputs": [
    {
     "name": "stdout",
     "output_type": "stream",
     "text": [
      "0.974\n",
      "0.699\n",
      "0.494\n"
     ]
    }
   ],
   "source": [
    "print(round(sqrt(mean_squared_error(y_test, y_predict)),3))\n",
    "print(round(mean_absolute_error(y_test, y_predict),3))\n",
    "#print(\"mean_squared_error:\", mean_squared_error(y_test, y_predict))\n",
    "\n",
    "print(round(r2_score(y_test, y_predict),3))"
   ]
  }
 ],
 "metadata": {
  "kernelspec": {
   "display_name": "new",
   "language": "python",
   "name": "python3"
  },
  "language_info": {
   "codemirror_mode": {
    "name": "ipython",
    "version": 3
   },
   "file_extension": ".py",
   "mimetype": "text/x-python",
   "name": "python",
   "nbconvert_exporter": "python",
   "pygments_lexer": "ipython3",
   "version": "3.7.11"
  },
  "orig_nbformat": 4
 },
 "nbformat": 4,
 "nbformat_minor": 2
}
