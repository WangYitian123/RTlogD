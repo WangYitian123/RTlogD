{
 "cells": [
  {
   "cell_type": "code",
   "execution_count": 50,
   "metadata": {},
   "outputs": [
    {
     "name": "stdout",
     "output_type": "stream",
     "text": [
      "best n_estimator:  2000\n",
      "best max_depth:  None\n",
      "best_min_sample:  2\n"
     ]
    }
   ],
   "source": [
    "import numpy as np\n",
    "import pandas as pd\n",
    "import pickle\n",
    "from sklearn.svm import SVC\n",
    "from sklearn.ensemble import RandomForestRegressor\n",
    "from sklearn.neural_network import MLPRegressor\n",
    "from xgboost import XGBRegressor\n",
    "from math import sqrt   \n",
    "from sklearn.metrics import mean_absolute_error\n",
    "from sklearn.metrics import mean_squared_error\n",
    "from sklearn.metrics import r2_score\n",
    "from sklearn.model_selection import train_test_split\n",
    "\n",
    "import numpy as np\n",
    "import seaborn as sns\n",
    "import matplotlib.pyplot as plt\n",
    "\n",
    "if __name__ == '__main__':\n",
    "    df_train=pd.read_csv(\"scaffold_train_ECFP.csv\")\n",
    "    df_valid=pd.read_csv(\"scaffold_valid_ECFP.csv\")\n",
    "    df_test=pd.read_csv(\"scaffold_test_ECFP.csv\")\n",
    "    ECFP4_column_lis = [i for i in df_train.columns if 'ECFP_4' in i]\n",
    "    X_train = np.array(df_train[ECFP4_column_lis])\n",
    "    X_val = np.array(df_valid[ECFP4_column_lis])\n",
    "    X_test = np.array(df_test[ECFP4_column_lis])\n",
    "    y_train = np.array(df_train['standard_value'])\n",
    "    y_val = np.array(df_valid['standard_value'])\n",
    "    y_test = np.array(df_test['standard_value'])\n",
    "    n_estimator_list = [1000,2000,3000,4000,5000,6000]\n",
    "    max_depth_list = [3,5,7,10,15,20,None]\n",
    "    min_samples_split = [2,3,4,5]\n",
    "    result_MAE = []\n",
    "    result_RMSE = []\n",
    "    result_R2 = []\n",
    "    log_lis = []\n",
    "    best_mae=1000\n",
    "    best_R2=-1\n",
    "    best_RMSE=1000\n",
    "    best_n_estimator=-1\n",
    "    best_max_depth=-1\n",
    "    best_min_sample=-1\n",
    "    for n_estimator in n_estimator_list:\n",
    "        for max_depth in max_depth_list:  \n",
    "            for min_sample in min_samples_split:\n",
    "                model = RandomForestRegressor(n_estimators = n_estimator,max_depth=max_depth,min_samples_split=min_sample,n_jobs=-1)\n",
    "                model.fit(X_train, y_train)\n",
    "                y_pred = model.predict(X_val)\n",
    "                MAE = mean_absolute_error(y_val,y_pred)\n",
    "                RMSE = sqrt(mean_squared_error(y_val,y_pred))\n",
    "                R2 = r2_score(y_val,y_pred)\n",
    "                if MAE<best_mae:\n",
    "                    best_mae=MAE\n",
    "                    best_n_estimator=n_estimator\n",
    "                    best_max_depth=max_depth\n",
    "                    best_min_sample=min_sample\n",
    "                    best_R2=R2\n",
    "                    best_RMSE=RMSE\n",
    "                result_MAE.append(MAE)\n",
    "                result_RMSE.append(RMSE)\n",
    "                result_R2.append(R2)  \n",
    "print(\"best n_estimator: \",best_n_estimator)\n",
    "print(\"best max_depth: \",best_max_depth)\n",
    "print(\"best_min_sample: \",best_min_sample)\n",
    "model = RandomForestRegressor(n_estimators = best_n_estimator,max_depth=best_max_depth,min_samples_split=best_min_sample,n_jobs=-1)\n",
    "model.fit(X_train, y_train)\n",
    "y_pred = model.predict(X_test)  # 加载出来的模型跟我们训练出来的模型一样，有相同的参数\n",
    "MAE = mean_absolute_error(y_test,y_pred)\n",
    "RMSE = sqrt(mean_squared_error(y_test,y_pred))\n",
    "R2 = r2_score(y_test,y_pred)\n",
    "print(round(sqrt(mean_squared_error(y_test, y_pred)),3))\n",
    "print(round(mean_absolute_error(y_test, y_pred),3))\n",
    "#print(\"mean_squared_error:\", mean_squared_error(y_test, y_predict))\n",
    "\n",
    "print(round(r2_score(y_test, y_pred),3))\n",
    "#joblib.dump(model,\"./XGboost3.pickle\")\n",
    "    "
   ]
  },
  {
   "cell_type": "code",
   "execution_count": 9,
   "metadata": {},
   "outputs": [],
   "source": [
    "import numpy as np\n",
    "import pandas as pd\n",
    "import pickle\n",
    "from sklearn.svm import SVC\n",
    "from sklearn.ensemble import RandomForestRegressor\n",
    "from sklearn.neural_network import MLPRegressor\n",
    "from xgboost import XGBRegressor\n",
    "from math import sqrt   \n",
    "from sklearn.metrics import mean_absolute_error\n",
    "from sklearn.metrics import mean_squared_error\n",
    "from sklearn.metrics import r2_score\n",
    "from sklearn.model_selection import train_test_split\n",
    "import joblib\n",
    "import numpy as np\n",
    "import seaborn as sns\n",
    "import matplotlib.pyplot as plt\n",
    "df_train=pd.read_csv(\"scaffold_train_ECFP.csv\")\n",
    "df_valid=pd.read_csv(\"scaffold_valid_ECFP.csv\")\n",
    "df_test=pd.read_csv(\"scaffold_test_ECFP.csv\")\n",
    "ECFP4_column_lis = [i for i in df_train.columns if 'ECFP_4' in i]\n",
    "X_train = np.array(df_train[ECFP4_column_lis])\n",
    "X_val = np.array(df_valid[ECFP4_column_lis])\n",
    "X_test = np.array(df_test[ECFP4_column_lis])\n",
    "y_train = np.array(df_train['standard_value'])\n",
    "y_val = np.array(df_valid['standard_value'])\n",
    "y_test = np.array(df_test['standard_value'])"
   ]
  },
  {
   "cell_type": "code",
   "execution_count": 5,
   "metadata": {},
   "outputs": [
    {
     "data": {
      "text/plain": [
       "1.088666841213401"
      ]
     },
     "execution_count": 5,
     "metadata": {},
     "output_type": "execute_result"
    }
   ],
   "source": [
    "best_RMSE"
   ]
  },
  {
   "cell_type": "code",
   "execution_count": 21,
   "metadata": {},
   "outputs": [],
   "source": [
    "model = RandomForestRegressor(n_estimators = 300,max_depth=None,min_samples_split=2,n_jobs=-1)\n",
    "lr = joblib.load(\"RF.pickle\")\n",
    "y_pred = lr.predict(X_test)  # 加载出来的模型跟我们训练出来的模型一样，有相同的参数\n",
    "MAE = mean_absolute_error(y_test,y_pred)\n",
    "RMSE = sqrt(mean_squared_error(y_test,y_pred))\n",
    "R2 = r2_score(y_test,y_pred)"
   ]
  },
  {
   "cell_type": "code",
   "execution_count": 25,
   "metadata": {},
   "outputs": [
    {
     "data": {
      "text/plain": [
       "['./XGboost2.pickle']"
      ]
     },
     "execution_count": 25,
     "metadata": {},
     "output_type": "execute_result"
    }
   ],
   "source": [
    "import numpy as np\n",
    "import pandas as pd\n",
    "import pickle\n",
    "from sklearn.svm import SVC\n",
    "from sklearn.ensemble import RandomForestRegressor\n",
    "from sklearn.neural_network import MLPRegressor\n",
    "from xgboost import XGBRegressor\n",
    "from math import sqrt   \n",
    "from sklearn.metrics import mean_absolute_error\n",
    "from sklearn.metrics import mean_squared_error\n",
    "from sklearn.metrics import r2_score\n",
    "from sklearn.model_selection import train_test_split\n",
    "import joblib\n",
    "import numpy as np\n",
    "import seaborn as sns\n",
    "import matplotlib.pyplot as plt\n",
    "df_train=pd.read_csv(\"scaffold_train_ECFP.csv\")\n",
    "df_valid=pd.read_csv(\"scaffold_valid_ECFP.csv\")\n",
    "df_test=pd.read_csv(\"scaffold_test_ECFP.csv\")\n",
    "ECFP4_column_lis = [i for i in df_train.columns if 'ECFP_4' in i]\n",
    "X_train = np.array(df_train[ECFP4_column_lis])\n",
    "X_val = np.array(df_valid[ECFP4_column_lis])\n",
    "X_test = np.array(df_test[ECFP4_column_lis])\n",
    "y_train = np.array(df_train['standard_value'])\n",
    "y_val = np.array(df_valid['standard_value'])\n",
    "y_test = np.array(df_test['standard_value'])\n",
    "model = XGBRegressor(n_estimators = 2000,max_depth=3,subsample=0.9,n_jobs=-1)\n",
    "model.fit(X_train, y_train)\n",
    "joblib.dump(model,\"./XGboost2.pickle\")"
   ]
  },
  {
   "cell_type": "code",
   "execution_count": 29,
   "metadata": {},
   "outputs": [],
   "source": [
    "import scipy"
   ]
  },
  {
   "cell_type": "code",
   "execution_count": null,
   "metadata": {},
   "outputs": [],
   "source": [
    "m, se = np.mean(a), scipy.stats.sem(a)\n",
    "print(\"se\",se)"
   ]
  },
  {
   "cell_type": "code",
   "execution_count": 44,
   "metadata": {},
   "outputs": [],
   "source": [
    "R=[]"
   ]
  },
  {
   "cell_type": "code",
   "execution_count": 45,
   "metadata": {},
   "outputs": [
    {
     "name": "stdout",
     "output_type": "stream",
     "text": [
      "1.1352013077733567\n"
     ]
    }
   ],
   "source": [
    "model = RandomForestRegressor(n_estimators = 300,max_depth=None,min_samples_split=2,n_jobs=-1)\n",
    "lr = joblib.load(\"RF.pickle\")\n",
    "y_pred = lr.predict(X_test)  # 加载出来的模型跟我们训练出来的模型一样，有相同的参数\n",
    "MAE = mean_absolute_error(y_test,y_pred)\n",
    "RMSE = sqrt(mean_squared_error(y_test,y_pred))\n",
    "R2 = r2_score(y_test,y_pred)\n",
    "print(RMSE)\n",
    "R.append(RMSE)"
   ]
  },
  {
   "cell_type": "code",
   "execution_count": 46,
   "metadata": {},
   "outputs": [
    {
     "name": "stdout",
     "output_type": "stream",
     "text": [
      "1.1402132907286127\n"
     ]
    }
   ],
   "source": [
    "model = RandomForestRegressor(n_estimators = 300,max_depth=None,min_samples_split=2,n_jobs=-1)\n",
    "lr = joblib.load(\"RF2.pickle\")\n",
    "y_pred = lr.predict(X_test)  # 加载出来的模型跟我们训练出来的模型一样，有相同的参数\n",
    "MAE = mean_absolute_error(y_test,y_pred)\n",
    "RMSE = sqrt(mean_squared_error(y_test,y_pred))\n",
    "R2 = r2_score(y_test,y_pred)\n",
    "print(RMSE)\n",
    "R.append(RMSE)"
   ]
  },
  {
   "cell_type": "code",
   "execution_count": 47,
   "metadata": {},
   "outputs": [
    {
     "name": "stdout",
     "output_type": "stream",
     "text": [
      "1.140569932176438\n"
     ]
    }
   ],
   "source": [
    "model = RandomForestRegressor(n_estimators = 300,max_depth=None,min_samples_split=2,n_jobs=-1)\n",
    "lr = joblib.load(\"RF3.pickle\")\n",
    "y_pred = lr.predict(X_test)  # 加载出来的模型跟我们训练出来的模型一样，有相同的参数\n",
    "MAE = mean_absolute_error(y_test,y_pred)\n",
    "RMSE = sqrt(mean_squared_error(y_test,y_pred))\n",
    "R2 = r2_score(y_test,y_pred)\n",
    "print(RMSE)\n",
    "R.append(RMSE)"
   ]
  },
  {
   "cell_type": "code",
   "execution_count": 38,
   "metadata": {},
   "outputs": [
    {
     "name": "stdout",
     "output_type": "stream",
     "text": [
      "m 0.409\n",
      "se 0.002\n"
     ]
    }
   ],
   "source": [
    "m, se = np.mean(R), scipy.stats.sem(R)\n",
    "print(\"m\",round(m,3))\n",
    "print(\"se\",round(se,3))"
   ]
  },
  {
   "cell_type": "code",
   "execution_count": 43,
   "metadata": {},
   "outputs": [
    {
     "name": "stdout",
     "output_type": "stream",
     "text": [
      "MAE\n",
      "m 0.864\n",
      "se 0.001\n"
     ]
    }
   ],
   "source": [
    "m, se = np.mean(R), scipy.stats.sem(R)\n",
    "print(\"MAE\")\n",
    "print(\"m\",round(m,3))\n",
    "print(\"se\",round(se,3))"
   ]
  },
  {
   "cell_type": "code",
   "execution_count": 48,
   "metadata": {},
   "outputs": [
    {
     "name": "stdout",
     "output_type": "stream",
     "text": [
      "rmse\n",
      "m 1.139\n",
      "se 0.002\n"
     ]
    }
   ],
   "source": [
    "m, se = np.mean(R), scipy.stats.sem(R)\n",
    "print(\"rmse\")\n",
    "print(\"m\",round(m,3))\n",
    "print(\"se\",round(se,3))"
   ]
  },
  {
   "cell_type": "code",
   "execution_count": 15,
   "metadata": {},
   "outputs": [
    {
     "name": "stdout",
     "output_type": "stream",
     "text": [
      "0.40709108583600073\n"
     ]
    }
   ],
   "source": [
    "model = RandomForestRegressor(n_estimators = 300,max_depth=None,min_samples_split=2,n_jobs=-1)\n",
    "model.fit(X_train, y_train)\n",
    "y_pred = model.predict(X_test)  # 加载出来的模型跟我们训练出来的模型一样，有相同的参数\n",
    "MAE = mean_absolute_error(y_test,y_pred)\n",
    "RMSE = sqrt(mean_squared_error(y_test,y_pred))\n",
    "R2 = r2_score(y_test,y_pred)\n",
    "print(R2)"
   ]
  },
  {
   "cell_type": "code",
   "execution_count": 16,
   "metadata": {},
   "outputs": [
    {
     "name": "stdout",
     "output_type": "stream",
     "text": [
      "Requirement already satisfied: joblib in /home/wangyitian/anaconda3/envs/new/lib/python3.7/site-packages (1.1.0)\n"
     ]
    },
    {
     "data": {
      "text/plain": [
       "['./RF3.pickle']"
      ]
     },
     "execution_count": 16,
     "metadata": {},
     "output_type": "execute_result"
    }
   ],
   "source": [
    "!pip install joblib\n",
    "import joblib\n",
    "\n",
    "\n",
    "joblib.dump(model,\"./RF3.pickle\")"
   ]
  },
  {
   "cell_type": "code",
   "execution_count": 9,
   "metadata": {},
   "outputs": [],
   "source": [
    "y_pred = model.predict(X_test)\n",
    "# MAE = mean_absolute_error(y_test,y_pred)\n",
    "# RMSE = sqrt(mean_squared_error(y_test,y_pred))\n",
    "# R2 = r2_score(y_test,y_pred)\n",
    "# print()"
   ]
  },
  {
   "cell_type": "code",
   "execution_count": 10,
   "metadata": {},
   "outputs": [
    {
     "name": "stdout",
     "output_type": "stream",
     "text": [
      "1.135\n",
      "0.863\n",
      "0.413\n"
     ]
    }
   ],
   "source": [
    "\n",
    "from math import sqrt   \n",
    "from sklearn.metrics import mean_absolute_error\n",
    "from sklearn.metrics import mean_squared_error\n",
    "from sklearn.metrics import r2_score\n",
    "import pandas as pd\n",
    "print(round(sqrt(mean_squared_error(y_test, y_pred)),3))\n",
    "print(round(mean_absolute_error(y_test, y_pred),3))\n",
    "#print(\"mean_squared_error:\", mean_squared_error(y_test, y_predict))\n",
    "\n",
    "print(round(r2_score(y_test, y_pred),3))"
   ]
  },
  {
   "cell_type": "code",
   "execution_count": 11,
   "metadata": {},
   "outputs": [
    {
     "data": {
      "text/plain": [
       "1.1346486471031862"
      ]
     },
     "execution_count": 11,
     "metadata": {},
     "output_type": "execute_result"
    }
   ],
   "source": [
    "RMSE "
   ]
  }
 ],
 "metadata": {
  "kernelspec": {
   "display_name": "Python 3.7.13 ('new')",
   "language": "python",
   "name": "python3"
  },
  "language_info": {
   "codemirror_mode": {
    "name": "ipython",
    "version": 3
   },
   "file_extension": ".py",
   "mimetype": "text/x-python",
   "name": "python",
   "nbconvert_exporter": "python",
   "pygments_lexer": "ipython3",
   "version": "3.7.13"
  },
  "orig_nbformat": 4,
  "vscode": {
   "interpreter": {
    "hash": "33f0be6713575a993f329a1c82ab1932e3e42cede9d4275e27daffcc8645c89f"
   }
  }
 },
 "nbformat": 4,
 "nbformat_minor": 2
}
