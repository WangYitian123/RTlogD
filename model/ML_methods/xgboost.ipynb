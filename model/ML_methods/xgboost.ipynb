{
 "cells": [
  {
   "cell_type": "code",
   "execution_count": 21,
   "metadata": {},
   "outputs": [
    {
     "name": "stdout",
     "output_type": "stream",
     "text": [
      "n_estimator: 6000\n",
      "max_depth: 3\n",
      "max_depth_list: 0.9\n",
      "learning rate: 0.1\n",
      " \n",
      "n_estimator: 6000\n",
      "max_depth: 3\n",
      "max_depth_list: 0.9\n",
      "learning rate: 0.05\n",
      " \n",
      "n_estimator: 6000\n",
      "max_depth: 3\n",
      "max_depth_list: 0.9\n",
      "learning rate: 0.01\n",
      " \n",
      "n_estimator: 6000\n",
      "max_depth: 3\n",
      "max_depth_list: 0.9\n",
      "learning rate: 0.5\n",
      " \n",
      "best mae:  0.71841076686141\n",
      "best RMSE:  0.9777858966485058\n",
      "best R2:  0.580569621946124\n",
      "best_lr:  0.1\n",
      "best n_estimator:  6000\n",
      "best max_depth:  3\n",
      "best_min_sample:  0.9\n",
      "1.043\n",
      "0.778\n",
      "0.504\n"
     ]
    }
   ],
   "source": [
    "import numpy as np\n",
    "import pandas as pd\n",
    "import pickle\n",
    "from sklearn.svm import SVC\n",
    "from sklearn.ensemble import RandomForestRegressor\n",
    "from sklearn.neural_network import MLPRegressor\n",
    "from xgboost import XGBRegressor\n",
    "from math import sqrt   \n",
    "from sklearn.metrics import mean_absolute_error\n",
    "from sklearn.metrics import mean_squared_error\n",
    "from sklearn.metrics import r2_score\n",
    "from sklearn.model_selection import train_test_split\n",
    "\n",
    "import numpy as np\n",
    "import seaborn as sns\n",
    "import matplotlib.pyplot as plt\n",
    "\n",
    "if __name__ == '__main__':\n",
    "    df_train=pd.read_csv(\"scaffold_train_ECFP.csv\")\n",
    "    df_valid=pd.read_csv(\"scaffold_valid_ECFP.csv\")\n",
    "    df_test=pd.read_csv(\"scaffold_test_ECFP.csv\")\n",
    "    ECFP4_column_lis = [i for i in df_train.columns if 'ECFP_4' in i]\n",
    "    X_train = np.array(df_train[ECFP4_column_lis])\n",
    "    X_val = np.array(df_valid[ECFP4_column_lis])\n",
    "    X_test = np.array(df_test[ECFP4_column_lis])\n",
    "    y_train = np.array(df_train['standard_value'])\n",
    "    y_val = np.array(df_valid['standard_value'])\n",
    "    y_test = np.array(df_test['standard_value'])\n",
    "    n_estimators_list = [6000,7000,8000]         \n",
    "    max_depth_list = [3]\n",
    "    subsample_list = [0.9]\n",
    "    learning_rate = [0.1,0.05,0.01,0.5]\n",
    "    best_mae=1000\n",
    "    best_R2=-1\n",
    "    best_RMSE=1000\n",
    "    best_n_estimator=-1\n",
    "    best_max_depth=-1\n",
    "    best_subsample=-1\n",
    "    best_learning_rate=-1\n",
    "    log_lis = []\n",
    "    result_MAE = []\n",
    "    result_RMSE = []\n",
    "    result_R2 = []\n",
    "    for n_estimator in n_estimators_list:\n",
    "\n",
    "        for max_depth in max_depth_list:  \n",
    "            for subsample in subsample_list:\n",
    "                for lr in learning_rate:\n",
    "                    print('n_estimator: '+ str(n_estimator))\n",
    "                    print('max_depth: '+ str(max_depth))\n",
    "                    print('max_depth_list: '+str(subsample))\n",
    "                    print('learning rate: '+str(lr))\n",
    "                    print(\" \")\n",
    "                    model = XGBRegressor(n_estimators = n_estimator,max_depth=max_depth,subsample=subsample,learning_rate=lr,n_jobs=-1)\n",
    "                    model.fit(X_train, y_train)\n",
    "                    y_pred = model.predict(X_val)\n",
    "                    MAE = mean_absolute_error(y_val,y_pred)\n",
    "                    RMSE = sqrt(mean_squared_error(y_val,y_pred))\n",
    "                    R2 = r2_score(y_val,y_pred)\n",
    "                    if MAE<best_mae:\n",
    "                        best_mae=MAE\n",
    "                        best_n_estimator=n_estimator\n",
    "                        best_max_depth=max_depth\n",
    "                        best_subsample=subsample\n",
    "                        best_R2=R2\n",
    "                        best_RMSE=RMSE\n",
    "                        best_lr=lr\n",
    "                    result_MAE.append(MAE)\n",
    "                    result_RMSE.append(RMSE)\n",
    "                    result_R2.append(R2)\n",
    "                    log_lis.append('n_estimator = {}, max_depth = {}, mae = {}'.format(n_estimator,max_depth,MAE))\n",
    "print(\"best mae: \",best_mae)\n",
    "print(\"best RMSE: \",best_RMSE)\n",
    "print(\"best R2: \",best_R2)\n",
    "print(\"best_lr: \",best_lr)\n",
    "print(\"best n_estimator: \",best_n_estimator)\n",
    "print(\"best max_depth: \",best_max_depth)\n",
    "print(\"best_min_sample: \",best_subsample)\n",
    "model = XGBRegressor(n_estimators = best_n_estimator,max_depth=best_max_depth,subsample=best_subsample,learning_rate=best_lr,n_jobs=-1)\n",
    "model.fit(X_train, y_train)\n",
    "y_pred = model.predict(X_test)  # 加载出来的模型跟我们训练出来的模型一样，有相同的参数\n",
    "MAE = mean_absolute_error(y_test,y_pred)\n",
    "RMSE = sqrt(mean_squared_error(y_test,y_pred))\n",
    "R2 = r2_score(y_test,y_pred)\n",
    "print(round(sqrt(mean_squared_error(y_test, y_pred)),3))\n",
    "print(round(mean_absolute_error(y_test, y_pred),3))\n",
    "#print(\"mean_squared_error:\", mean_squared_error(y_test, y_predict))\n",
    "\n",
    "print(round(r2_score(y_test, y_pred),3))\n",
    "#joblib.dump(model,\"./XGboost3.pickle\")\n",
    "    "
   ]
  },
  {
   "cell_type": "code",
   "execution_count": null,
   "metadata": {},
   "outputs": [],
   "source": [
    "import numpy as np\n",
    "import pandas as pd\n",
    "import pickle\n",
    "from sklearn.svm import SVC\n",
    "from sklearn.ensemble import RandomForestRegressor\n",
    "from sklearn.neural_network import MLPRegressor\n",
    "from xgboost import XGBRegressor\n",
    "from math import sqrt   \n",
    "from sklearn.metrics import mean_absolute_error\n",
    "from sklearn.metrics import mean_squared_error\n",
    "from sklearn.metrics import r2_score\n",
    "from sklearn.model_selection import train_test_split\n",
    "\n",
    "import numpy as np\n",
    "import seaborn as sns\n",
    "import matplotlib.pyplot as plt\n",
    "\n",
    "if __name__ == '__main__':\n",
    "    df_train=pd.read_csv(\"scaffold_train_ECFP.csv\")\n",
    "    df_valid=pd.read_csv(\"scaffold_valid_ECFP.csv\")\n",
    "    df_test=pd.read_csv(\"scaffold_test_ECFP.csv\")\n",
    "    ECFP4_column_lis = [i for i in df_train.columns if 'ECFP_4' in i]\n",
    "    X_train = np.array(df_train[ECFP4_column_lis])\n",
    "    X_val = np.array(df_valid[ECFP4_column_lis])\n",
    "    X_test = np.array(df_test[ECFP4_column_lis])\n",
    "    y_train = np.array(df_train['standard_value'])\n",
    "    y_val = np.array(df_valid['standard_value'])\n",
    "    y_test = np.array(df_test['standard_value'])\n",
    "    n_estimators_list = [3000,4000,5000,6000,7000,8000]         \n",
    "    max_depth_list = [3]\n",
    "    subsample_list = [0.9]\n",
    "    learning_rate = [0.1,0.05,0.01,0.5]\n",
    "    best_mae=1000\n",
    "    best_R2=-1\n",
    "    best_RMSE=1000\n",
    "    best_n_estimator=-1\n",
    "    best_max_depth=-1\n",
    "    best_subsample=-1\n",
    "    best_learning_rate=-1\n",
    "    log_lis = []\n",
    "    result_MAE = []\n",
    "    result_RMSE = []\n",
    "    result_R2 = []\n",
    "    for n_estimator in n_estimators_list:\n",
    "\n",
    "        for max_depth in max_depth_list:  \n",
    "            for subsample in subsample_list:\n",
    "                for lr in learning_rate:\n",
    "                    print('n_estimator: '+ str(n_estimator))\n",
    "                    print('max_depth: '+ str(max_depth))\n",
    "                    print('max_depth_list: '+str(subsample))\n",
    "                    print('learning rate: '+str(lr))\n",
    "                    print(\" \")\n",
    "                    model = XGBRegressor(n_estimators = n_estimator,max_depth=max_depth,subsample=subsample,learning_rate=lr,n_jobs=-1)\n",
    "                    model.fit(X_train, y_train)\n",
    "                    y_pred = model.predict(X_val)\n",
    "                    MAE = mean_absolute_error(y_val,y_pred)\n",
    "                    RMSE = sqrt(mean_squared_error(y_val,y_pred))\n",
    "                    R2 = r2_score(y_val,y_pred)\n",
    "                    if MAE<best_mae:\n",
    "                        best_mae=MAE\n",
    "                        best_n_estimator=n_estimator\n",
    "                        best_max_depth=max_depth\n",
    "                        best_subsample=subsample\n",
    "                        best_R2=R2\n",
    "                        best_RMSE=RMSE\n",
    "                        best_lr=lr\n",
    "                    result_MAE.append(MAE)\n",
    "                    result_RMSE.append(RMSE)\n",
    "                    result_R2.append(R2)\n",
    "                    log_lis.append('n_estimator = {}, max_depth = {}, mae = {}'.format(n_estimator,max_depth,MAE))\n",
    "print(\"best mae: \",best_mae)\n",
    "print(\"best RMSE: \",best_RMSE)\n",
    "print(\"best R2: \",best_R2)\n",
    "print(\"best_lr: \",best_lr)\n",
    "print(\"best n_estimator: \",best_n_estimator)\n",
    "print(\"best max_depth: \",best_max_depth)\n",
    "print(\"best_min_sample: \",best_subsample)\n",
    "model = XGBRegressor(n_estimators = best_n_estimator,max_depth=best_max_depth,subsample=best_subsample,learning_rate=best_lr,n_jobs=-1)\n",
    "model.fit(X_train, y_train)\n",
    "y_pred = model.predict(X_test)  # 加载出来的模型跟我们训练出来的模型一样，有相同的参数\n",
    "MAE = mean_absolute_error(y_test,y_pred)\n",
    "RMSE = sqrt(mean_squared_error(y_test,y_pred))\n",
    "R2 = r2_score(y_test,y_pred)\n",
    "print(round(sqrt(mean_squared_error(y_test, y_pred)),3))\n",
    "print(round(mean_absolute_error(y_test, y_pred),3))\n",
    "#print(\"mean_squared_error:\", mean_squared_error(y_test, y_predict))\n",
    "\n",
    "print(round(r2_score(y_test, y_pred),3))\n",
    "#joblib.dump(model,\"./XGboost3.pickle\")\n",
    "    "
   ]
  },
  {
   "cell_type": "code",
   "execution_count": 14,
   "metadata": {},
   "outputs": [],
   "source": [
    "import numpy as np\n",
    "import pandas as pd\n",
    "import pickle\n",
    "from sklearn.svm import SVC\n",
    "from sklearn.ensemble import RandomForestRegressor\n",
    "from sklearn.neural_network import MLPRegressor\n",
    "from xgboost import XGBRegressor\n",
    "from math import sqrt   \n",
    "from sklearn.metrics import mean_absolute_error\n",
    "from sklearn.metrics import mean_squared_error\n",
    "from sklearn.metrics import r2_score\n",
    "from sklearn.model_selection import train_test_split\n",
    "import joblib\n",
    "import numpy as np\n",
    "import seaborn as sns\n",
    "import matplotlib.pyplot as plt\n",
    "df_train=pd.read_csv(\"scaffold_train_ECFP.csv\")\n",
    "df_valid=pd.read_csv(\"scaffold_valid_ECFP.csv\")\n",
    "df_test=pd.read_csv(\"scaffold_test_ECFP.csv\")\n",
    "ECFP4_column_lis = [i for i in df_train.columns if 'ECFP_4' in i]\n",
    "X_train = np.array(df_train[ECFP4_column_lis])\n",
    "X_val = np.array(df_valid[ECFP4_column_lis])\n",
    "X_test = np.array(df_test[ECFP4_column_lis])\n",
    "y_train = np.array(df_train['standard_value'])\n",
    "y_val = np.array(df_valid['standard_value'])\n",
    "y_test = np.array(df_test['standard_value'])\n",
    "model = XGBRegressor(n_estimators = 2000,max_depth=3,subsample=0.9,n_jobs=-1)\n",
    "#model.fit(X_train, y_train)\n",
    "#joblib.dump(model,\"./XGboost3.pickle\")"
   ]
  },
  {
   "cell_type": "code",
   "execution_count": 15,
   "metadata": {},
   "outputs": [],
   "source": [
    "R=[]"
   ]
  },
  {
   "cell_type": "code",
   "execution_count": 16,
   "metadata": {},
   "outputs": [
    {
     "name": "stdout",
     "output_type": "stream",
     "text": [
      "1.0668959219730212\n"
     ]
    }
   ],
   "source": [
    "lr = joblib.load(\"XGboost.pickle\")\n",
    "y_pred = lr.predict(X_test)  # 加载出来的模型跟我们训练出来的模型一样，有相同的参数\n",
    "MAE = mean_absolute_error(y_test,y_pred)\n",
    "RMSE = sqrt(mean_squared_error(y_test,y_pred))\n",
    "R2 = r2_score(y_test,y_pred)\n",
    "print(RMSE)\n",
    "R.append(RMSE)"
   ]
  },
  {
   "cell_type": "code",
   "execution_count": 17,
   "metadata": {},
   "outputs": [
    {
     "name": "stdout",
     "output_type": "stream",
     "text": [
      "1.0668959219730212\n"
     ]
    }
   ],
   "source": [
    "lr = joblib.load(\"XGboost2.pickle\")\n",
    "y_pred = lr.predict(X_test)  # 加载出来的模型跟我们训练出来的模型一样，有相同的参数\n",
    "MAE = mean_absolute_error(y_test,y_pred)\n",
    "RMSE = sqrt(mean_squared_error(y_test,y_pred))\n",
    "R2 = r2_score(y_test,y_pred)\n",
    "print(RMSE)\n",
    "R.append(RMSE)"
   ]
  },
  {
   "cell_type": "code",
   "execution_count": 18,
   "metadata": {},
   "outputs": [
    {
     "name": "stdout",
     "output_type": "stream",
     "text": [
      "1.0668959219730212\n"
     ]
    }
   ],
   "source": [
    "lr = joblib.load(\"XGboost3.pickle\")\n",
    "y_pred = lr.predict(X_test)  # 加载出来的模型跟我们训练出来的模型一样，有相同的参数\n",
    "MAE = mean_absolute_error(y_test,y_pred)\n",
    "RMSE = sqrt(mean_squared_error(y_test,y_pred))\n",
    "R2 = r2_score(y_test,y_pred)\n",
    "print(RMSE)\n",
    "R.append(RMSE)"
   ]
  },
  {
   "cell_type": "code",
   "execution_count": 7,
   "metadata": {},
   "outputs": [
    {
     "data": {
      "text/plain": [
       "0.5642042593309069"
      ]
     },
     "execution_count": 7,
     "metadata": {},
     "output_type": "execute_result"
    }
   ],
   "source": [
    "R2"
   ]
  },
  {
   "cell_type": "code",
   "execution_count": 12,
   "metadata": {},
   "outputs": [
    {
     "data": {
      "text/plain": [
       "0.5642042593309069"
      ]
     },
     "execution_count": 12,
     "metadata": {},
     "output_type": "execute_result"
    }
   ],
   "source": [
    "R2"
   ]
  },
  {
   "cell_type": "code",
   "execution_count": 9,
   "metadata": {},
   "outputs": [],
   "source": [
    "y_pred = model.predict(X_test)\n",
    "# MAE = mean_absolute_error(y_test,y_pred)\n",
    "# RMSE = sqrt(mean_squared_error(y_test,y_pred))\n",
    "# R2 = r2_score(y_test,y_pred)"
   ]
  },
  {
   "cell_type": "code",
   "execution_count": 10,
   "metadata": {},
   "outputs": [
    {
     "name": "stdout",
     "output_type": "stream",
     "text": [
      "1.067\n",
      "0.801\n",
      "0.481\n"
     ]
    }
   ],
   "source": [
    "y_pred = model.predict(X_test)\n",
    "from math import sqrt   \n",
    "from sklearn.metrics import mean_absolute_error\n",
    "from sklearn.metrics import mean_squared_error\n",
    "from sklearn.metrics import r2_score\n",
    "import pandas as pd\n",
    "print(round(sqrt(mean_squared_error(y_test, y_pred)),3))\n",
    "print(round(mean_absolute_error(y_test, y_pred),3))\n",
    "#print(\"mean_squared_error:\", mean_squared_error(y_test, y_predict))\n",
    "\n",
    "print(round(r2_score(y_test, y_pred),3))"
   ]
  },
  {
   "cell_type": "code",
   "execution_count": 4,
   "metadata": {},
   "outputs": [
    {
     "data": {
      "text/plain": [
       "['./XGboost2.pickle']"
      ]
     },
     "execution_count": 4,
     "metadata": {},
     "output_type": "execute_result"
    }
   ],
   "source": [
    "import joblib\n",
    "\n",
    "\n",
    "joblib.dump(model,\"./XGboost2.pickle\")"
   ]
  },
  {
   "cell_type": "code",
   "execution_count": 13,
   "metadata": {},
   "outputs": [
    {
     "data": {
      "text/plain": [
       "0.4812139934912544"
      ]
     },
     "execution_count": 13,
     "metadata": {},
     "output_type": "execute_result"
    }
   ],
   "source": [
    "R2"
   ]
  }
 ],
 "metadata": {
  "kernelspec": {
   "display_name": "Python 3.7.13 ('new')",
   "language": "python",
   "name": "python3"
  },
  "language_info": {
   "codemirror_mode": {
    "name": "ipython",
    "version": 3
   },
   "file_extension": ".py",
   "mimetype": "text/x-python",
   "name": "python",
   "nbconvert_exporter": "python",
   "pygments_lexer": "ipython3",
   "version": "3.7.13"
  },
  "orig_nbformat": 4,
  "vscode": {
   "interpreter": {
    "hash": "33f0be6713575a993f329a1c82ab1932e3e42cede9d4275e27daffcc8645c89f"
   }
  }
 },
 "nbformat": 4,
 "nbformat_minor": 2
}
