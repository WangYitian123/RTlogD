{
 "cells": [
  {
   "cell_type": "code",
   "execution_count": 1,
   "metadata": {},
   "outputs": [],
   "source": [
    "import numpy as np\n",
    "import pandas as pd\n",
    "import pickle\n",
    "from sklearn.svm import SVR\n",
    "from sklearn.ensemble import RandomForestRegressor\n",
    "from sklearn.neural_network import MLPRegressor\n",
    "from xgboost import XGBRegressor\n",
    "from math import sqrt   \n",
    "from sklearn.metrics import mean_absolute_error\n",
    "from sklearn.metrics import mean_squared_error\n",
    "from sklearn.metrics import r2_score\n",
    "from sklearn.model_selection import train_test_split\n",
    "\n",
    "import numpy as np\n",
    "import seaborn as sns\n",
    "import matplotlib.pyplot as plt\n",
    "\n",
    "if __name__ == '__main__':\n",
    "    df_train=pd.read_csv(\"scaffold_train_ECFP.csv\")\n",
    "    df_valid=pd.read_csv(\"scaffold_valid_ECFP.csv\")\n",
    "    df_test=pd.read_csv(\"scaffold_test_ECFP.csv\")\n",
    "    ECFP4_column_lis = [i for i in df_train.columns if 'ECFP_4' in i]\n",
    "    X_train = np.array(df_train[ECFP4_column_lis])\n",
    "    X_val = np.array(df_valid[ECFP4_column_lis])\n",
    "    X_test = np.array(df_test[ECFP4_column_lis])\n",
    "    y_train = np.array(df_train['standard_value'])\n",
    "    y_val = np.array(df_valid['standard_value'])\n",
    "    y_test = np.array(df_test['standard_value'])\n",
    "    model = SVR(kernel='rbf',gamma =0.001 ,C =100)\n",
    "    model.fit(X_train, y_train)\n",
    "    y_pred = model.predict(X_val)\n",
    "    MAE = mean_absolute_error(y_val,y_pred)\n",
    "    RMSE = sqrt(mean_squared_error(y_val,y_pred))\n",
    "    R2 = r2_score(y_val,y_pred)"
   ]
  },
  {
   "cell_type": "code",
   "execution_count": 2,
   "metadata": {},
   "outputs": [
    {
     "name": "stdout",
     "output_type": "stream",
     "text": [
      "1.049\n",
      "0.787\n",
      "0.498\n"
     ]
    }
   ],
   "source": [
    "y_pred = model.predict(X_test)\n",
    "from math import sqrt   \n",
    "from sklearn.metrics import mean_absolute_error\n",
    "from sklearn.metrics import mean_squared_error\n",
    "from sklearn.metrics import r2_score\n",
    "import pandas as pd\n",
    "print(round(sqrt(mean_squared_error(y_test, y_pred)),3))\n",
    "print(round(mean_absolute_error(y_test, y_pred),3))\n",
    "#print(\"mean_squared_error:\", mean_squared_error(y_test, y_predict))\n",
    "\n",
    "print(round(r2_score(y_test, y_pred),3))"
   ]
  },
  {
   "cell_type": "code",
   "execution_count": 3,
   "metadata": {},
   "outputs": [
    {
     "data": {
      "text/plain": [
       "['./SVM.pickle']"
      ]
     },
     "execution_count": 3,
     "metadata": {},
     "output_type": "execute_result"
    }
   ],
   "source": [
    "import joblib\n",
    "\n",
    "\n",
    "joblib.dump(model,\"./SVM.pickle\")"
   ]
  }
 ],
 "metadata": {
  "kernelspec": {
   "display_name": "Python 3.7.13 ('new')",
   "language": "python",
   "name": "python3"
  },
  "language_info": {
   "codemirror_mode": {
    "name": "ipython",
    "version": 3
   },
   "file_extension": ".py",
   "mimetype": "text/x-python",
   "name": "python",
   "nbconvert_exporter": "python",
   "pygments_lexer": "ipython3",
   "version": "3.7.13"
  },
  "orig_nbformat": 4,
  "vscode": {
   "interpreter": {
    "hash": "33f0be6713575a993f329a1c82ab1932e3e42cede9d4275e27daffcc8645c89f"
   }
  }
 },
 "nbformat": 4,
 "nbformat_minor": 2
}
